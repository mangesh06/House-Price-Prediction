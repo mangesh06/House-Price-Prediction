{
  "nbformat": 4,
  "nbformat_minor": 0,
  "metadata": {
    "colab": {
      "provenance": []
    },
    "kernelspec": {
      "name": "python3",
      "display_name": "Python 3"
    },
    "language_info": {
      "name": "python"
    }
  },
  "cells": [
    {
      "cell_type": "code",
      "execution_count": 16,
      "metadata": {
        "colab": {
          "base_uri": "https://localhost:8080/"
        },
        "id": "-RpQz5IYG_q-",
        "outputId": "825c7e11-028f-459c-cacd-02e70aad92c0"
      },
      "outputs": [
        {
          "output_type": "stream",
          "name": "stdout",
          "text": [
            "Drive already mounted at /gdrive; to attempt to forcibly remount, call drive.mount(\"/gdrive\", force_remount=True).\n",
            "/gdrive\n",
            "Requirement already satisfied: vecstack in /usr/local/lib/python3.10/dist-packages (0.4.0)\n",
            "Requirement already satisfied: numpy in /usr/local/lib/python3.10/dist-packages (from vecstack) (1.23.5)\n",
            "Requirement already satisfied: scipy in /usr/local/lib/python3.10/dist-packages (from vecstack) (1.11.3)\n",
            "Requirement already satisfied: scikit-learn>=0.18 in /usr/local/lib/python3.10/dist-packages (from vecstack) (1.2.2)\n",
            "Requirement already satisfied: joblib>=1.1.1 in /usr/local/lib/python3.10/dist-packages (from scikit-learn>=0.18->vecstack) (1.3.2)\n",
            "Requirement already satisfied: threadpoolctl>=2.0.0 in /usr/local/lib/python3.10/dist-packages (from scikit-learn>=0.18->vecstack) (3.2.0)\n"
          ]
        }
      ],
      "source": [
        "from google.colab import drive\n",
        "drive.mount('/gdrive')\n",
        "%cd /gdrive\n",
        "\n",
        "!pip install vecstack\n",
        "\n",
        "from sklearn import svm\n",
        "from sklearn.preprocessing import StandardScaler\n",
        "from vecstack import stacking\n",
        "import pandas as pd\n",
        "import numpy as np\n",
        "from sklearn.model_selection import train_test_split\n",
        "import matplotlib.pyplot as plt\n",
        "import seaborn as sns\n",
        "import missingno as msno\n",
        "from time import time\n",
        "\n",
        "from math import sqrt\n",
        "import statsmodels.api as sm\n",
        "from statsmodels.formula.api import ols\n",
        "import scipy.stats as st\n",
        "from scipy.special import boxcox1p\n",
        "\n",
        "from sklearn.ensemble import RandomForestRegressor\n",
        "from sklearn.tree import DecisionTreeRegressor\n",
        "from sklearn.ensemble import GradientBoostingRegressor\n",
        "from sklearn.neural_network import MLPRegressor\n",
        "from sklearn.metrics import mean_squared_error\n",
        "from sklearn.model_selection import GridSearchCV\n",
        "from sklearn.model_selection import RandomizedSearchCV\n",
        "from sklearn.model_selection import cross_val_score\n",
        "\n",
        "import warnings\n",
        "warnings.filterwarnings(\"ignore\")\n"
      ]
    },
    {
      "cell_type": "markdown",
      "source": [
        "Reading Data from File"
      ],
      "metadata": {
        "id": "DgjtAQ87AeV2"
      }
    },
    {
      "cell_type": "code",
      "source": [
        "train_data = pd.read_csv(r'/gdrive/My Drive/Colab Notebooks/Linear_Regression/train.csv')\n",
        "test_data = pd.read_csv(r'/gdrive/My Drive/Colab Notebooks/Linear_Regression/test.csv')"
      ],
      "metadata": {
        "id": "Apn4_PBxHL80"
      },
      "execution_count": 17,
      "outputs": []
    },
    {
      "cell_type": "code",
      "source": [
        "test_data.shape"
      ],
      "metadata": {
        "colab": {
          "base_uri": "https://localhost:8080/"
        },
        "id": "altdYCpWHkS0",
        "outputId": "a33b9811-8b20-4de9-a708-314238994d46"
      },
      "execution_count": 18,
      "outputs": [
        {
          "output_type": "execute_result",
          "data": {
            "text/plain": [
              "(1459, 80)"
            ]
          },
          "metadata": {},
          "execution_count": 18
        }
      ]
    },
    {
      "cell_type": "code",
      "source": [
        "train_data.shape"
      ],
      "metadata": {
        "colab": {
          "base_uri": "https://localhost:8080/"
        },
        "id": "RXpnJFFvHld8",
        "outputId": "add5c640-5741-4262-d748-6a6b7b92f9e9"
      },
      "execution_count": 19,
      "outputs": [
        {
          "output_type": "execute_result",
          "data": {
            "text/plain": [
              "(1460, 81)"
            ]
          },
          "metadata": {},
          "execution_count": 19
        }
      ]
    },
    {
      "cell_type": "code",
      "source": [
        "train_data.isnull().sum().sort_values(ascending=False)"
      ],
      "metadata": {
        "colab": {
          "base_uri": "https://localhost:8080/"
        },
        "id": "ndZ-0gt1HfOE",
        "outputId": "7fe0ee58-8f3e-4351-b9bf-593662b7d4ff"
      },
      "execution_count": 20,
      "outputs": [
        {
          "output_type": "execute_result",
          "data": {
            "text/plain": [
              "PoolQC         1453\n",
              "MiscFeature    1406\n",
              "Alley          1369\n",
              "Fence          1179\n",
              "FireplaceQu     690\n",
              "               ... \n",
              "ExterQual         0\n",
              "Exterior2nd       0\n",
              "Exterior1st       0\n",
              "RoofMatl          0\n",
              "SalePrice         0\n",
              "Length: 81, dtype: int64"
            ]
          },
          "metadata": {},
          "execution_count": 20
        }
      ]
    },
    {
      "cell_type": "code",
      "source": [
        "train_data.head()"
      ],
      "metadata": {
        "colab": {
          "base_uri": "https://localhost:8080/",
          "height": 256
        },
        "id": "GglR-amhHgFi",
        "outputId": "490cfeb9-08ba-44a2-d631-e08933421fe4"
      },
      "execution_count": 21,
      "outputs": [
        {
          "output_type": "execute_result",
          "data": {
            "text/plain": [
              "   Id  MSSubClass MSZoning  LotFrontage  LotArea Street Alley LotShape  \\\n",
              "0   1          60       RL         65.0     8450   Pave   NaN      Reg   \n",
              "1   2          20       RL         80.0     9600   Pave   NaN      Reg   \n",
              "2   3          60       RL         68.0    11250   Pave   NaN      IR1   \n",
              "3   4          70       RL         60.0     9550   Pave   NaN      IR1   \n",
              "4   5          60       RL         84.0    14260   Pave   NaN      IR1   \n",
              "\n",
              "  LandContour Utilities  ... PoolArea PoolQC Fence MiscFeature MiscVal MoSold  \\\n",
              "0         Lvl    AllPub  ...        0    NaN   NaN         NaN       0      2   \n",
              "1         Lvl    AllPub  ...        0    NaN   NaN         NaN       0      5   \n",
              "2         Lvl    AllPub  ...        0    NaN   NaN         NaN       0      9   \n",
              "3         Lvl    AllPub  ...        0    NaN   NaN         NaN       0      2   \n",
              "4         Lvl    AllPub  ...        0    NaN   NaN         NaN       0     12   \n",
              "\n",
              "  YrSold  SaleType  SaleCondition  SalePrice  \n",
              "0   2008        WD         Normal     208500  \n",
              "1   2007        WD         Normal     181500  \n",
              "2   2008        WD         Normal     223500  \n",
              "3   2006        WD        Abnorml     140000  \n",
              "4   2008        WD         Normal     250000  \n",
              "\n",
              "[5 rows x 81 columns]"
            ],
            "text/html": [
              "\n",
              "  <div id=\"df-19cfcab9-e030-46bf-9b43-6963f579686f\" class=\"colab-df-container\">\n",
              "    <div>\n",
              "<style scoped>\n",
              "    .dataframe tbody tr th:only-of-type {\n",
              "        vertical-align: middle;\n",
              "    }\n",
              "\n",
              "    .dataframe tbody tr th {\n",
              "        vertical-align: top;\n",
              "    }\n",
              "\n",
              "    .dataframe thead th {\n",
              "        text-align: right;\n",
              "    }\n",
              "</style>\n",
              "<table border=\"1\" class=\"dataframe\">\n",
              "  <thead>\n",
              "    <tr style=\"text-align: right;\">\n",
              "      <th></th>\n",
              "      <th>Id</th>\n",
              "      <th>MSSubClass</th>\n",
              "      <th>MSZoning</th>\n",
              "      <th>LotFrontage</th>\n",
              "      <th>LotArea</th>\n",
              "      <th>Street</th>\n",
              "      <th>Alley</th>\n",
              "      <th>LotShape</th>\n",
              "      <th>LandContour</th>\n",
              "      <th>Utilities</th>\n",
              "      <th>...</th>\n",
              "      <th>PoolArea</th>\n",
              "      <th>PoolQC</th>\n",
              "      <th>Fence</th>\n",
              "      <th>MiscFeature</th>\n",
              "      <th>MiscVal</th>\n",
              "      <th>MoSold</th>\n",
              "      <th>YrSold</th>\n",
              "      <th>SaleType</th>\n",
              "      <th>SaleCondition</th>\n",
              "      <th>SalePrice</th>\n",
              "    </tr>\n",
              "  </thead>\n",
              "  <tbody>\n",
              "    <tr>\n",
              "      <th>0</th>\n",
              "      <td>1</td>\n",
              "      <td>60</td>\n",
              "      <td>RL</td>\n",
              "      <td>65.0</td>\n",
              "      <td>8450</td>\n",
              "      <td>Pave</td>\n",
              "      <td>NaN</td>\n",
              "      <td>Reg</td>\n",
              "      <td>Lvl</td>\n",
              "      <td>AllPub</td>\n",
              "      <td>...</td>\n",
              "      <td>0</td>\n",
              "      <td>NaN</td>\n",
              "      <td>NaN</td>\n",
              "      <td>NaN</td>\n",
              "      <td>0</td>\n",
              "      <td>2</td>\n",
              "      <td>2008</td>\n",
              "      <td>WD</td>\n",
              "      <td>Normal</td>\n",
              "      <td>208500</td>\n",
              "    </tr>\n",
              "    <tr>\n",
              "      <th>1</th>\n",
              "      <td>2</td>\n",
              "      <td>20</td>\n",
              "      <td>RL</td>\n",
              "      <td>80.0</td>\n",
              "      <td>9600</td>\n",
              "      <td>Pave</td>\n",
              "      <td>NaN</td>\n",
              "      <td>Reg</td>\n",
              "      <td>Lvl</td>\n",
              "      <td>AllPub</td>\n",
              "      <td>...</td>\n",
              "      <td>0</td>\n",
              "      <td>NaN</td>\n",
              "      <td>NaN</td>\n",
              "      <td>NaN</td>\n",
              "      <td>0</td>\n",
              "      <td>5</td>\n",
              "      <td>2007</td>\n",
              "      <td>WD</td>\n",
              "      <td>Normal</td>\n",
              "      <td>181500</td>\n",
              "    </tr>\n",
              "    <tr>\n",
              "      <th>2</th>\n",
              "      <td>3</td>\n",
              "      <td>60</td>\n",
              "      <td>RL</td>\n",
              "      <td>68.0</td>\n",
              "      <td>11250</td>\n",
              "      <td>Pave</td>\n",
              "      <td>NaN</td>\n",
              "      <td>IR1</td>\n",
              "      <td>Lvl</td>\n",
              "      <td>AllPub</td>\n",
              "      <td>...</td>\n",
              "      <td>0</td>\n",
              "      <td>NaN</td>\n",
              "      <td>NaN</td>\n",
              "      <td>NaN</td>\n",
              "      <td>0</td>\n",
              "      <td>9</td>\n",
              "      <td>2008</td>\n",
              "      <td>WD</td>\n",
              "      <td>Normal</td>\n",
              "      <td>223500</td>\n",
              "    </tr>\n",
              "    <tr>\n",
              "      <th>3</th>\n",
              "      <td>4</td>\n",
              "      <td>70</td>\n",
              "      <td>RL</td>\n",
              "      <td>60.0</td>\n",
              "      <td>9550</td>\n",
              "      <td>Pave</td>\n",
              "      <td>NaN</td>\n",
              "      <td>IR1</td>\n",
              "      <td>Lvl</td>\n",
              "      <td>AllPub</td>\n",
              "      <td>...</td>\n",
              "      <td>0</td>\n",
              "      <td>NaN</td>\n",
              "      <td>NaN</td>\n",
              "      <td>NaN</td>\n",
              "      <td>0</td>\n",
              "      <td>2</td>\n",
              "      <td>2006</td>\n",
              "      <td>WD</td>\n",
              "      <td>Abnorml</td>\n",
              "      <td>140000</td>\n",
              "    </tr>\n",
              "    <tr>\n",
              "      <th>4</th>\n",
              "      <td>5</td>\n",
              "      <td>60</td>\n",
              "      <td>RL</td>\n",
              "      <td>84.0</td>\n",
              "      <td>14260</td>\n",
              "      <td>Pave</td>\n",
              "      <td>NaN</td>\n",
              "      <td>IR1</td>\n",
              "      <td>Lvl</td>\n",
              "      <td>AllPub</td>\n",
              "      <td>...</td>\n",
              "      <td>0</td>\n",
              "      <td>NaN</td>\n",
              "      <td>NaN</td>\n",
              "      <td>NaN</td>\n",
              "      <td>0</td>\n",
              "      <td>12</td>\n",
              "      <td>2008</td>\n",
              "      <td>WD</td>\n",
              "      <td>Normal</td>\n",
              "      <td>250000</td>\n",
              "    </tr>\n",
              "  </tbody>\n",
              "</table>\n",
              "<p>5 rows × 81 columns</p>\n",
              "</div>\n",
              "    <div class=\"colab-df-buttons\">\n",
              "\n",
              "  <div class=\"colab-df-container\">\n",
              "    <button class=\"colab-df-convert\" onclick=\"convertToInteractive('df-19cfcab9-e030-46bf-9b43-6963f579686f')\"\n",
              "            title=\"Convert this dataframe to an interactive table.\"\n",
              "            style=\"display:none;\">\n",
              "\n",
              "  <svg xmlns=\"http://www.w3.org/2000/svg\" height=\"24px\" viewBox=\"0 -960 960 960\">\n",
              "    <path d=\"M120-120v-720h720v720H120Zm60-500h600v-160H180v160Zm220 220h160v-160H400v160Zm0 220h160v-160H400v160ZM180-400h160v-160H180v160Zm440 0h160v-160H620v160ZM180-180h160v-160H180v160Zm440 0h160v-160H620v160Z\"/>\n",
              "  </svg>\n",
              "    </button>\n",
              "\n",
              "  <style>\n",
              "    .colab-df-container {\n",
              "      display:flex;\n",
              "      gap: 12px;\n",
              "    }\n",
              "\n",
              "    .colab-df-convert {\n",
              "      background-color: #E8F0FE;\n",
              "      border: none;\n",
              "      border-radius: 50%;\n",
              "      cursor: pointer;\n",
              "      display: none;\n",
              "      fill: #1967D2;\n",
              "      height: 32px;\n",
              "      padding: 0 0 0 0;\n",
              "      width: 32px;\n",
              "    }\n",
              "\n",
              "    .colab-df-convert:hover {\n",
              "      background-color: #E2EBFA;\n",
              "      box-shadow: 0px 1px 2px rgba(60, 64, 67, 0.3), 0px 1px 3px 1px rgba(60, 64, 67, 0.15);\n",
              "      fill: #174EA6;\n",
              "    }\n",
              "\n",
              "    .colab-df-buttons div {\n",
              "      margin-bottom: 4px;\n",
              "    }\n",
              "\n",
              "    [theme=dark] .colab-df-convert {\n",
              "      background-color: #3B4455;\n",
              "      fill: #D2E3FC;\n",
              "    }\n",
              "\n",
              "    [theme=dark] .colab-df-convert:hover {\n",
              "      background-color: #434B5C;\n",
              "      box-shadow: 0px 1px 3px 1px rgba(0, 0, 0, 0.15);\n",
              "      filter: drop-shadow(0px 1px 2px rgba(0, 0, 0, 0.3));\n",
              "      fill: #FFFFFF;\n",
              "    }\n",
              "  </style>\n",
              "\n",
              "    <script>\n",
              "      const buttonEl =\n",
              "        document.querySelector('#df-19cfcab9-e030-46bf-9b43-6963f579686f button.colab-df-convert');\n",
              "      buttonEl.style.display =\n",
              "        google.colab.kernel.accessAllowed ? 'block' : 'none';\n",
              "\n",
              "      async function convertToInteractive(key) {\n",
              "        const element = document.querySelector('#df-19cfcab9-e030-46bf-9b43-6963f579686f');\n",
              "        const dataTable =\n",
              "          await google.colab.kernel.invokeFunction('convertToInteractive',\n",
              "                                                    [key], {});\n",
              "        if (!dataTable) return;\n",
              "\n",
              "        const docLinkHtml = 'Like what you see? Visit the ' +\n",
              "          '<a target=\"_blank\" href=https://colab.research.google.com/notebooks/data_table.ipynb>data table notebook</a>'\n",
              "          + ' to learn more about interactive tables.';\n",
              "        element.innerHTML = '';\n",
              "        dataTable['output_type'] = 'display_data';\n",
              "        await google.colab.output.renderOutput(dataTable, element);\n",
              "        const docLink = document.createElement('div');\n",
              "        docLink.innerHTML = docLinkHtml;\n",
              "        element.appendChild(docLink);\n",
              "      }\n",
              "    </script>\n",
              "  </div>\n",
              "\n",
              "\n",
              "<div id=\"df-ae2a3652-7ae5-478c-9798-28932690f18c\">\n",
              "  <button class=\"colab-df-quickchart\" onclick=\"quickchart('df-ae2a3652-7ae5-478c-9798-28932690f18c')\"\n",
              "            title=\"Suggest charts\"\n",
              "            style=\"display:none;\">\n",
              "\n",
              "<svg xmlns=\"http://www.w3.org/2000/svg\" height=\"24px\"viewBox=\"0 0 24 24\"\n",
              "     width=\"24px\">\n",
              "    <g>\n",
              "        <path d=\"M19 3H5c-1.1 0-2 .9-2 2v14c0 1.1.9 2 2 2h14c1.1 0 2-.9 2-2V5c0-1.1-.9-2-2-2zM9 17H7v-7h2v7zm4 0h-2V7h2v10zm4 0h-2v-4h2v4z\"/>\n",
              "    </g>\n",
              "</svg>\n",
              "  </button>\n",
              "\n",
              "<style>\n",
              "  .colab-df-quickchart {\n",
              "      --bg-color: #E8F0FE;\n",
              "      --fill-color: #1967D2;\n",
              "      --hover-bg-color: #E2EBFA;\n",
              "      --hover-fill-color: #174EA6;\n",
              "      --disabled-fill-color: #AAA;\n",
              "      --disabled-bg-color: #DDD;\n",
              "  }\n",
              "\n",
              "  [theme=dark] .colab-df-quickchart {\n",
              "      --bg-color: #3B4455;\n",
              "      --fill-color: #D2E3FC;\n",
              "      --hover-bg-color: #434B5C;\n",
              "      --hover-fill-color: #FFFFFF;\n",
              "      --disabled-bg-color: #3B4455;\n",
              "      --disabled-fill-color: #666;\n",
              "  }\n",
              "\n",
              "  .colab-df-quickchart {\n",
              "    background-color: var(--bg-color);\n",
              "    border: none;\n",
              "    border-radius: 50%;\n",
              "    cursor: pointer;\n",
              "    display: none;\n",
              "    fill: var(--fill-color);\n",
              "    height: 32px;\n",
              "    padding: 0;\n",
              "    width: 32px;\n",
              "  }\n",
              "\n",
              "  .colab-df-quickchart:hover {\n",
              "    background-color: var(--hover-bg-color);\n",
              "    box-shadow: 0 1px 2px rgba(60, 64, 67, 0.3), 0 1px 3px 1px rgba(60, 64, 67, 0.15);\n",
              "    fill: var(--button-hover-fill-color);\n",
              "  }\n",
              "\n",
              "  .colab-df-quickchart-complete:disabled,\n",
              "  .colab-df-quickchart-complete:disabled:hover {\n",
              "    background-color: var(--disabled-bg-color);\n",
              "    fill: var(--disabled-fill-color);\n",
              "    box-shadow: none;\n",
              "  }\n",
              "\n",
              "  .colab-df-spinner {\n",
              "    border: 2px solid var(--fill-color);\n",
              "    border-color: transparent;\n",
              "    border-bottom-color: var(--fill-color);\n",
              "    animation:\n",
              "      spin 1s steps(1) infinite;\n",
              "  }\n",
              "\n",
              "  @keyframes spin {\n",
              "    0% {\n",
              "      border-color: transparent;\n",
              "      border-bottom-color: var(--fill-color);\n",
              "      border-left-color: var(--fill-color);\n",
              "    }\n",
              "    20% {\n",
              "      border-color: transparent;\n",
              "      border-left-color: var(--fill-color);\n",
              "      border-top-color: var(--fill-color);\n",
              "    }\n",
              "    30% {\n",
              "      border-color: transparent;\n",
              "      border-left-color: var(--fill-color);\n",
              "      border-top-color: var(--fill-color);\n",
              "      border-right-color: var(--fill-color);\n",
              "    }\n",
              "    40% {\n",
              "      border-color: transparent;\n",
              "      border-right-color: var(--fill-color);\n",
              "      border-top-color: var(--fill-color);\n",
              "    }\n",
              "    60% {\n",
              "      border-color: transparent;\n",
              "      border-right-color: var(--fill-color);\n",
              "    }\n",
              "    80% {\n",
              "      border-color: transparent;\n",
              "      border-right-color: var(--fill-color);\n",
              "      border-bottom-color: var(--fill-color);\n",
              "    }\n",
              "    90% {\n",
              "      border-color: transparent;\n",
              "      border-bottom-color: var(--fill-color);\n",
              "    }\n",
              "  }\n",
              "</style>\n",
              "\n",
              "  <script>\n",
              "    async function quickchart(key) {\n",
              "      const quickchartButtonEl =\n",
              "        document.querySelector('#' + key + ' button');\n",
              "      quickchartButtonEl.disabled = true;  // To prevent multiple clicks.\n",
              "      quickchartButtonEl.classList.add('colab-df-spinner');\n",
              "      try {\n",
              "        const charts = await google.colab.kernel.invokeFunction(\n",
              "            'suggestCharts', [key], {});\n",
              "      } catch (error) {\n",
              "        console.error('Error during call to suggestCharts:', error);\n",
              "      }\n",
              "      quickchartButtonEl.classList.remove('colab-df-spinner');\n",
              "      quickchartButtonEl.classList.add('colab-df-quickchart-complete');\n",
              "    }\n",
              "    (() => {\n",
              "      let quickchartButtonEl =\n",
              "        document.querySelector('#df-ae2a3652-7ae5-478c-9798-28932690f18c button');\n",
              "      quickchartButtonEl.style.display =\n",
              "        google.colab.kernel.accessAllowed ? 'block' : 'none';\n",
              "    })();\n",
              "  </script>\n",
              "</div>\n",
              "    </div>\n",
              "  </div>\n"
            ]
          },
          "metadata": {},
          "execution_count": 21
        }
      ]
    },
    {
      "cell_type": "code",
      "source": [
        "ytrain = train_data['SalePrice']\n",
        "id = test_data['Id']\n",
        "len_train = train_data.shape[0]\n",
        "len_test = test_data.shape[0]"
      ],
      "metadata": {
        "id": "khoAwR1RWiDg"
      },
      "execution_count": 22,
      "outputs": []
    },
    {
      "cell_type": "markdown",
      "source": [
        "Combining the Train and Test data"
      ],
      "metadata": {
        "id": "ZI3EncPtAVFo"
      }
    },
    {
      "cell_type": "code",
      "source": [
        "total_Data = pd.concat((train_data,test_data), sort=True).reset_index(drop = True)\n",
        "total_Data['Dataset'] = np.repeat(['Train', 'Test'], [len_train, len_test], axis=0)\n",
        "total_Data.drop('Id', axis=1,inplace=True)"
      ],
      "metadata": {
        "id": "_3_loqB4W-G4"
      },
      "execution_count": 48,
      "outputs": []
    },
    {
      "cell_type": "code",
      "source": [
        "sns.distplot(total_Data['SalePrice'][~total_Data['SalePrice'].isnull()], axlabel=\"Normal Distribution\", fit=st.norm, fit_kws={\"color\":\"red\"})\n",
        "plt.show()\n",
        "\n",
        "st.probplot(total_Data['SalePrice'][~total_Data['SalePrice'].isnull()], plot=plt)\n",
        "plt.show()"
      ],
      "metadata": {
        "colab": {
          "base_uri": "https://localhost:8080/",
          "height": 920
        },
        "id": "x-ckxO1KYwcr",
        "outputId": "4b049b91-600e-49bf-83e8-cb5ba016f8b0"
      },
      "execution_count": 24,
      "outputs": [
        {
          "output_type": "display_data",
          "data": {
            "text/plain": [
              "<Figure size 640x480 with 1 Axes>"
            ],
            "image/png": "[encoded data removed]"
          },
          "metadata": {}
        },
        {
          "output_type": "display_data",
          "data": {
            "text/plain": [
              "<Figure size 640x480 with 1 Axes>"
            ],
            "image/png": "[encoded data removed]"
          },
          "metadata": {}
        }
      ]
    },
    {
      "cell_type": "markdown",
      "source": [
        "Target Variable Transformation"
      ],
      "metadata": {
        "id": "EV7Bu6SqAvB-"
      }
    },
    {
      "cell_type": "code",
      "source": [
        "total_Data['SalePrice'] = np.log1p(total_Data['SalePrice'])\n",
        "\n",
        "sns.distplot(total_Data['SalePrice'][~total_Data['SalePrice'].isnull()], axlabel=\"Normal Distribution\", fit=st.norm, fit_kws={\"color\":\"red\"})\n",
        "plt.show()\n",
        "\n",
        "st.probplot(total_Data['SalePrice'][~total_Data['SalePrice'].isnull()], plot=plt)\n",
        "plt.show()"
      ],
      "metadata": {
        "colab": {
          "base_uri": "https://localhost:8080/",
          "height": 904
        },
        "id": "7tsMlpyRaPr-",
        "outputId": "f5af3a93-8704-4f24-c615-2d75271feeeb"
      },
      "execution_count": 25,
      "outputs": [
        {
          "output_type": "display_data",
          "data": {
            "text/plain": [
              "<Figure size 640x480 with 1 Axes>"
            ],
            "image/png": "[encoded data removed]"
          },
          "metadata": {}
        },
        {
          "output_type": "display_data",
          "data": {
            "text/plain": [
              "<Figure size 640x480 with 1 Axes>"
            ],
            "image/png": "[encoded data removed]"
          },
          "metadata": {}
        }
      ]
    },
    {
      "cell_type": "markdown",
      "source": [
        "## **Handling Missing Values**"
      ],
      "metadata": {
        "id": "xeWKpqlfBHw-"
      }
    },
    {
      "cell_type": "code",
      "source": [
        "# Nan values for this categorical variable means that there is no Garage or Pool or Fence etc.\n",
        "col = ['PoolQC','MiscFeature', 'Alley', 'Fence', 'FireplaceQu', 'GarageType', 'GarageFinish', 'GarageQual', 'GarageCond']\n",
        "for var in col:\n",
        "    total_Data[var].replace(np.nan, 'None', regex=True, inplace=True)"
      ],
      "metadata": {
        "id": "l4OlFj8OdbeB"
      },
      "execution_count": 26,
      "outputs": []
    },
    {
      "cell_type": "code",
      "source": [
        "# as there is No Garage there will not be any cars or area etc.\n",
        "Garage_nums = ['GarageYrBlt', 'GarageCars', 'GarageArea']\n",
        "for i in Garage_nums:\n",
        "    total_Data[i].replace(np.nan, 0, regex = True, inplace = True)"
      ],
      "metadata": {
        "id": "Typ-GDHEefxV"
      },
      "execution_count": 27,
      "outputs": []
    },
    {
      "cell_type": "code",
      "source": [
        "#similarly for no basement\n",
        "basement_cols = ['BsmtQual','BsmtCond', 'BsmtExposure', 'BsmtFinType1', 'BsmtFinType2']\n",
        "for j in basement_cols:\n",
        "    total_Data[j].replace(np.nan, 'None', regex=True, inplace=True)"
      ],
      "metadata": {
        "id": "qO5ScZe4e3zd"
      },
      "execution_count": 28,
      "outputs": []
    },
    {
      "cell_type": "code",
      "source": [
        "basement_nums = ['BsmtFinSF1', 'BsmtFinSF2', 'BsmtUnfSF', 'TotalBsmtSF', 'BsmtFullBath', 'BsmtHalfBath']\n",
        "for i in basement_nums:\n",
        "    total_Data[i].replace(np.nan, 0, regex = True, inplace = True)"
      ],
      "metadata": {
        "id": "o_unWpZUfNlY"
      },
      "execution_count": 29,
      "outputs": []
    },
    {
      "cell_type": "code",
      "source": [
        "total_Data['MasVnrType'].replace(np.nan, 'None', regex=True, inplace=True)\n",
        "total_Data['MasVnrArea'].replace(np.nan, 0, regex=True, inplace=True)\n",
        "total_Data['Functional'].replace(np.nan, 'Typical', regex=True, inplace=True)"
      ],
      "metadata": {
        "id": "g6ISq_wFfYnZ"
      },
      "execution_count": 30,
      "outputs": []
    },
    {
      "cell_type": "code",
      "source": [
        "from collections import Counter"
      ],
      "metadata": {
        "id": "-x9d4Zxdfx2g"
      },
      "execution_count": 31,
      "outputs": []
    },
    {
      "cell_type": "code",
      "source": [
        "Counter(total_Data['Utilities'])"
      ],
      "metadata": {
        "colab": {
          "base_uri": "https://localhost:8080/"
        },
        "id": "sgZmJX7nhNsx",
        "outputId": "213d46fb-de46-477a-eae3-79d25d768259"
      },
      "execution_count": 32,
      "outputs": [
        {
          "output_type": "execute_result",
          "data": {
            "text/plain": [
              "Counter({'AllPub': 2916, 'NoSeWa': 1, nan: 2})"
            ]
          },
          "metadata": {},
          "execution_count": 32
        }
      ]
    },
    {
      "cell_type": "code",
      "source": [
        "total_Data.drop('Utilities',axis = 1,inplace= True)"
      ],
      "metadata": {
        "id": "Z411kYr9hUEy"
      },
      "execution_count": 33,
      "outputs": []
    },
    {
      "cell_type": "code",
      "source": [
        "#missing values of below mentioned categories are replaced with the most frequently occuring category\n",
        "col_missing_data = ['MSZoning','Electrical','Exterior1st','Exterior2nd','KitchenQual','SaleType']\n",
        "for i in col_missing_data:\n",
        "  print(str(i)+ ' : '+ str(Counter(total_Data[i])))\n",
        "  total_Data[i].replace(np.nan, total_Data[i].mode()[0], regex=True, inplace=True)\n",
        "  print(str(i)+ ' : '+ str(Counter(total_Data[i])))"
      ],
      "metadata": {
        "colab": {
          "base_uri": "https://localhost:8080/"
        },
        "id": "i7P7JkMlhhqm",
        "outputId": "3de269a7-1ba0-4c9c-cb98-9b49e2cb0ece"
      },
      "execution_count": 34,
      "outputs": [
        {
          "output_type": "stream",
          "name": "stdout",
          "text": [
            "MSZoning : Counter({'RL': 2265, 'RM': 460, 'FV': 139, 'RH': 26, 'C (all)': 25, nan: 4})\n",
            "MSZoning : Counter({'RL': 2269, 'RM': 460, 'FV': 139, 'RH': 26, 'C (all)': 25})\n",
            "Electrical : Counter({'SBrkr': 2671, 'FuseA': 188, 'FuseF': 50, 'FuseP': 8, 'Mix': 1, nan: 1})\n",
            "Electrical : Counter({'SBrkr': 2672, 'FuseA': 188, 'FuseF': 50, 'FuseP': 8, 'Mix': 1})\n",
            "Exterior1st : Counter({'VinylSd': 1025, 'MetalSd': 450, 'HdBoard': 442, 'Wd Sdng': 411, 'Plywood': 221, 'CemntBd': 126, 'BrkFace': 87, 'WdShing': 56, 'AsbShng': 44, 'Stucco': 43, 'BrkComm': 6, 'AsphShn': 2, 'Stone': 2, 'CBlock': 2, 'ImStucc': 1, nan: 1})\n",
            "Exterior1st : Counter({'VinylSd': 1026, 'MetalSd': 450, 'HdBoard': 442, 'Wd Sdng': 411, 'Plywood': 221, 'CemntBd': 126, 'BrkFace': 87, 'WdShing': 56, 'AsbShng': 44, 'Stucco': 43, 'BrkComm': 6, 'AsphShn': 2, 'Stone': 2, 'CBlock': 2, 'ImStucc': 1})\n",
            "Exterior2nd : Counter({'VinylSd': 1014, 'MetalSd': 447, 'HdBoard': 406, 'Wd Sdng': 391, 'Plywood': 270, 'CmentBd': 126, 'Wd Shng': 81, 'BrkFace': 47, 'Stucco': 47, 'AsbShng': 38, 'Brk Cmn': 22, 'ImStucc': 15, 'Stone': 6, 'AsphShn': 4, 'CBlock': 3, 'Other': 1, nan: 1})\n",
            "Exterior2nd : Counter({'VinylSd': 1015, 'MetalSd': 447, 'HdBoard': 406, 'Wd Sdng': 391, 'Plywood': 270, 'CmentBd': 126, 'Wd Shng': 81, 'BrkFace': 47, 'Stucco': 47, 'AsbShng': 38, 'Brk Cmn': 22, 'ImStucc': 15, 'Stone': 6, 'AsphShn': 4, 'CBlock': 3, 'Other': 1})\n",
            "KitchenQual : Counter({'TA': 1492, 'Gd': 1151, 'Ex': 205, 'Fa': 70, nan: 1})\n",
            "KitchenQual : Counter({'TA': 1493, 'Gd': 1151, 'Ex': 205, 'Fa': 70})\n",
            "SaleType : Counter({'WD': 2525, 'New': 239, 'COD': 87, 'ConLD': 26, 'CWD': 12, 'ConLI': 9, 'ConLw': 8, 'Oth': 7, 'Con': 5, nan: 1})\n",
            "SaleType : Counter({'WD': 2526, 'New': 239, 'COD': 87, 'ConLD': 26, 'CWD': 12, 'ConLI': 9, 'ConLw': 8, 'Oth': 7, 'Con': 5})\n"
          ]
        }
      ]
    },
    {
      "cell_type": "code",
      "source": [
        "total_Data['TotalArea'] = total_Data['TotalBsmtSF'] + total_Data['1stFlrSF'] + total_Data['2ndFlrSF']"
      ],
      "metadata": {
        "id": "J4YWYaTyhuqI"
      },
      "execution_count": 35,
      "outputs": []
    },
    {
      "cell_type": "code",
      "source": [
        "total_Data['TotalBath'] = total_Data['BsmtFullBath'] + (total_Data['BsmtHalfBath']*0.5) + total_Data['FullBath'] + (total_Data['HalfBath']*0.5)"
      ],
      "metadata": {
        "id": "RUA2utGgkw23"
      },
      "execution_count": 36,
      "outputs": []
    },
    {
      "cell_type": "markdown",
      "source": [
        "## **Model to Predicting the missing values of LotFrontage**"
      ],
      "metadata": {
        "id": "d5VIvqyuoEVI"
      }
    },
    {
      "cell_type": "code",
      "source": [
        "train_LotFrontage = total_Data[~total_Data.LotFrontage.isnull()]\n",
        "test_LotFrontage = total_Data[total_Data.LotFrontage.isnull()]"
      ],
      "metadata": {
        "id": "nh5kZpT7l6kY"
      },
      "execution_count": 37,
      "outputs": []
    },
    {
      "cell_type": "code",
      "source": [
        "sns.boxplot(train_LotFrontage['LotFrontage'])"
      ],
      "metadata": {
        "colab": {
          "base_uri": "https://localhost:8080/",
          "height": 0
        },
        "id": "7MImyjVOoNO0",
        "outputId": "2f65bd9c-8650-4d87-d367-569707099369"
      },
      "execution_count": 38,
      "outputs": [
        {
          "output_type": "execute_result",
          "data": {
            "text/plain": [
              "<Axes: >"
            ]
          },
          "metadata": {},
          "execution_count": 38
        },
        {
          "output_type": "display_data",
          "data": {
            "text/plain": [
              "<Figure size 640x480 with 1 Axes>"
            ],
            "image/png": "[encoded data removed]"
          },
          "metadata": {}
        }
      ]
    },
    {
      "cell_type": "markdown",
      "source": [
        "Outlier Detection & Removal"
      ],
      "metadata": {
        "id": "BR82w7BJoXv4"
      }
    },
    {
      "cell_type": "code",
      "source": [
        "def outlier_detection(data):\n",
        "    Q1, Q3 = np.percentile(data, [25,75])\n",
        "    IQR = Q3-Q1\n",
        "    lower_cutoff = Q1 - (IQR * 1.5)\n",
        "    upper_cutoff = Q3 + (IQR * 1.5)\n",
        "    outliers = (data > Q3+1.5*IQR) | (data < Q1-1.5*IQR)\n",
        "    return outliers\n"
      ],
      "metadata": {
        "id": "d1VOfT30oUMC"
      },
      "execution_count": 39,
      "outputs": []
    },
    {
      "cell_type": "code",
      "source": [
        "train_LotFrontage_no_outliers = train_LotFrontage[~outlier_detection(train_LotFrontage.LotFrontage)]"
      ],
      "metadata": {
        "id": "RgNQ-1glojWc"
      },
      "execution_count": 40,
      "outputs": []
    },
    {
      "cell_type": "code",
      "source": [
        "X = train_LotFrontage_no_outliers.drop(['SalePrice'],axis = 1)\n",
        "y = train_LotFrontage_no_outliers['LotFrontage']\n",
        "X.isnull().sum().sort_values(ascending=False)"
      ],
      "metadata": {
        "colab": {
          "base_uri": "https://localhost:8080/"
        },
        "id": "uplYQbBLpSDd",
        "outputId": "d73b596e-7746-464e-def0-6d845e05e23a"
      },
      "execution_count": 41,
      "outputs": [
        {
          "output_type": "execute_result",
          "data": {
            "text/plain": [
              "1stFlrSF        0\n",
              "HeatingQC       0\n",
              "Neighborhood    0\n",
              "MoSold          0\n",
              "MiscVal         0\n",
              "               ..\n",
              "FireplaceQu     0\n",
              "Fence           0\n",
              "Exterior2nd     0\n",
              "Exterior1st     0\n",
              "TotalBath       0\n",
              "Length: 81, dtype: int64"
            ]
          },
          "metadata": {},
          "execution_count": 41
        }
      ]
    },
    {
      "cell_type": "code",
      "source": [
        "X = pd.get_dummies(X)\n",
        "transformer = StandardScaler().fit(X)\n",
        "X = transformer.transform(X)"
      ],
      "metadata": {
        "id": "CbjuODn6pkcq"
      },
      "execution_count": 42,
      "outputs": []
    },
    {
      "cell_type": "code",
      "source": [
        "X_train, X_test, y_train, y_test = train_test_split(X, y, test_size=0.33, random_state=1234)\n",
        "\n",
        "clf = svm.SVR(kernel='rbf', C=100, gamma=0.001)\n",
        "clf.fit(X_train, y_train)\n",
        "preds = clf.predict(X_test)"
      ],
      "metadata": {
        "id": "WXssefngp0hc"
      },
      "execution_count": 43,
      "outputs": []
    },
    {
      "cell_type": "code",
      "source": [
        "from sklearn.metrics import mean_absolute_error, mean_squared_error"
      ],
      "metadata": {
        "id": "qjZZU4wcsxVF"
      },
      "execution_count": 44,
      "outputs": []
    },
    {
      "cell_type": "code",
      "source": [
        "print('Mean Absolute Error:  %.3f' % mean_absolute_error(y_test, preds))\n"
      ],
      "metadata": {
        "colab": {
          "base_uri": "https://localhost:8080/"
        },
        "id": "0ThlT2W3qGdi",
        "outputId": "4c19c1e3-9f2f-46a5-bab7-c60be03fba4e"
      },
      "execution_count": 45,
      "outputs": [
        {
          "output_type": "stream",
          "name": "stdout",
          "text": [
            "Mean Absolute Error:  1.581\n"
          ]
        }
      ]
    },
    {
      "cell_type": "code",
      "source": [
        "test_LotFrontage.isnull().sum().sort_values(ascending=False)"
      ],
      "metadata": {
        "colab": {
          "base_uri": "https://localhost:8080/"
        },
        "id": "xfeivCW_uTWZ",
        "outputId": "ae0ade57-3812-4df1-fbee-039a917d112b"
      },
      "execution_count": 46,
      "outputs": [
        {
          "output_type": "execute_result",
          "data": {
            "text/plain": [
              "LotFrontage     486\n",
              "SalePrice       227\n",
              "1stFlrSF          0\n",
              "MSSubClass        0\n",
              "Neighborhood      0\n",
              "               ... \n",
              "FireplaceQu       0\n",
              "Fence             0\n",
              "Exterior2nd       0\n",
              "Exterior1st       0\n",
              "TotalBath         0\n",
              "Length: 82, dtype: int64"
            ]
          },
          "metadata": {},
          "execution_count": 46
        }
      ]
    },
    {
      "cell_type": "code",
      "source": [
        "new_train = train_LotFrontage_no_outliers.copy()     #training data without outliers\n",
        "full_data= new_train.append(test_LotFrontage)        #full data (train + Test) without outliers\n",
        "y = full_data['LotFrontage']                         #seperate the label\n",
        "#considering those variables that have more impact on LotFrontage\n",
        "full_data = full_data[['MSZoning', 'Alley', 'LotArea', 'LotShape', 'LotConfig', 'Neighborhood', 'GarageType', 'GarageCars', 'GarageArea']]"
      ],
      "metadata": {
        "id": "N7iSPYZdu3qO"
      },
      "execution_count": 47,
      "outputs": []
    },
    {
      "cell_type": "code",
      "source": [
        "full_data = pd.get_dummies(full_data)                #One_Hot_Encoding\n",
        "new_X_train = full_data[~y.isnull()]                 #X_train should have all the 'y'- not null data and x_test should have all the rows where 'y' is null\n",
        "new_X_test = full_data[y.isnull()]\n",
        "new_y_train = y[~y.isnull()]                         #similarly with y"
      ],
      "metadata": {
        "id": "Og8Li_KGvfwO"
      },
      "execution_count": null,
      "outputs": []
    },
    {
      "cell_type": "code",
      "source": [
        "transformer = StandardScaler().fit(new_X_train)\n",
        "new_X_train = transformer.transform(new_X_train)\n",
        "new_X_test = transformer.transform(new_X_test)"
      ],
      "metadata": {
        "id": "L6h4QR3vwBkX"
      },
      "execution_count": null,
      "outputs": []
    },
    {
      "cell_type": "code",
      "source": [
        "model = svm.SVR(kernel='rbf', C=100, gamma=0.001)\n",
        "model.fit(new_X_train, new_y_train)\n",
        "pred_LotFrontage = model.predict(new_X_test)"
      ],
      "metadata": {
        "id": "aQDGcJnAwJ90"
      },
      "execution_count": null,
      "outputs": []
    },
    {
      "cell_type": "code",
      "source": [
        "total_Data.LotFrontage[total_Data.LotFrontage.isnull()] = pred_LotFrontage"
      ],
      "metadata": {
        "id": "h20ZUTr2wdhm"
      },
      "execution_count": null,
      "outputs": []
    },
    {
      "cell_type": "code",
      "source": [
        "total_Data.isnull().sum().sort_values(ascending=False)"
      ],
      "metadata": {
        "colab": {
          "base_uri": "https://localhost:8080/"
        },
        "id": "ADHhANoewyR2",
        "outputId": "f48b6576-f124-4d25-ac7e-720a2d8ac70c"
      },
      "execution_count": null,
      "outputs": [
        {
          "output_type": "execute_result",
          "data": {
            "text/plain": [
              "SalePrice       1459\n",
              "1stFlrSF           0\n",
              "MSSubClass         0\n",
              "Neighborhood       0\n",
              "MoSold             0\n",
              "                ... \n",
              "FireplaceQu        0\n",
              "Fence              0\n",
              "Exterior2nd        0\n",
              "Exterior1st        0\n",
              "TotalBath          0\n",
              "Length: 82, dtype: int64"
            ]
          },
          "metadata": {},
          "execution_count": 42
        }
      ]
    },
    {
      "cell_type": "markdown",
      "source": [
        "OneHotEncoding"
      ],
      "metadata": {
        "id": "Mvuc9Gm6xeOh"
      }
    },
    {
      "cell_type": "code",
      "source": [
        "total_Data = pd.get_dummies(total_Data)\n",
        "print(total_Data.shape)\n",
        "total_Data.head(3)"
      ],
      "metadata": {
        "colab": {
          "base_uri": "https://localhost:8080/",
          "height": 210
        },
        "id": "bj3u8dhExJpr",
        "outputId": "1471a3bb-da75-40da-fedb-fb85dd7b1908"
      },
      "execution_count": null,
      "outputs": [
        {
          "output_type": "stream",
          "name": "stdout",
          "text": [
            "(2919, 306)\n"
          ]
        },
        {
          "output_type": "execute_result",
          "data": {
            "text/plain": [
              "   1stFlrSF  2ndFlrSF  3SsnPorch  BedroomAbvGr  BsmtFinSF1  BsmtFinSF2  \\\n",
              "0       856       854          0             3       706.0         0.0   \n",
              "1      1262         0          0             3       978.0         0.0   \n",
              "2       920       866          0             3       486.0         0.0   \n",
              "\n",
              "   BsmtFullBath  BsmtHalfBath  BsmtUnfSF  EnclosedPorch  ...  SaleType_ConLD  \\\n",
              "0           1.0           0.0      150.0              0  ...               0   \n",
              "1           0.0           1.0      284.0              0  ...               0   \n",
              "2           1.0           0.0      434.0              0  ...               0   \n",
              "\n",
              "   SaleType_ConLI  SaleType_ConLw  SaleType_New  SaleType_Oth  SaleType_WD  \\\n",
              "0               0               0             0             0            1   \n",
              "1               0               0             0             0            1   \n",
              "2               0               0             0             0            1   \n",
              "\n",
              "   Street_Grvl  Street_Pave  Dataset_Test  Dataset_Train  \n",
              "0            0            1             0              1  \n",
              "1            0            1             0              1  \n",
              "2            0            1             0              1  \n",
              "\n",
              "[3 rows x 306 columns]"
            ],
            "text/html": [
              "\n",
              "  <div id=\"df-bb8080ea-32d6-40f5-b6c6-d01c47b6ab35\" class=\"colab-df-container\">\n",
              "    <div>\n",
              "<style scoped>\n",
              "    .dataframe tbody tr th:only-of-type {\n",
              "        vertical-align: middle;\n",
              "    }\n",
              "\n",
              "    .dataframe tbody tr th {\n",
              "        vertical-align: top;\n",
              "    }\n",
              "\n",
              "    .dataframe thead th {\n",
              "        text-align: right;\n",
              "    }\n",
              "</style>\n",
              "<table border=\"1\" class=\"dataframe\">\n",
              "  <thead>\n",
              "    <tr style=\"text-align: right;\">\n",
              "      <th></th>\n",
              "      <th>1stFlrSF</th>\n",
              "      <th>2ndFlrSF</th>\n",
              "      <th>3SsnPorch</th>\n",
              "      <th>BedroomAbvGr</th>\n",
              "      <th>BsmtFinSF1</th>\n",
              "      <th>BsmtFinSF2</th>\n",
              "      <th>BsmtFullBath</th>\n",
              "      <th>BsmtHalfBath</th>\n",
              "      <th>BsmtUnfSF</th>\n",
              "      <th>EnclosedPorch</th>\n",
              "      <th>...</th>\n",
              "      <th>SaleType_ConLD</th>\n",
              "      <th>SaleType_ConLI</th>\n",
              "      <th>SaleType_ConLw</th>\n",
              "      <th>SaleType_New</th>\n",
              "      <th>SaleType_Oth</th>\n",
              "      <th>SaleType_WD</th>\n",
              "      <th>Street_Grvl</th>\n",
              "      <th>Street_Pave</th>\n",
              "      <th>Dataset_Test</th>\n",
              "      <th>Dataset_Train</th>\n",
              "    </tr>\n",
              "  </thead>\n",
              "  <tbody>\n",
              "    <tr>\n",
              "      <th>0</th>\n",
              "      <td>856</td>\n",
              "      <td>854</td>\n",
              "      <td>0</td>\n",
              "      <td>3</td>\n",
              "      <td>706.0</td>\n",
              "      <td>0.0</td>\n",
              "      <td>1.0</td>\n",
              "      <td>0.0</td>\n",
              "      <td>150.0</td>\n",
              "      <td>0</td>\n",
              "      <td>...</td>\n",
              "      <td>0</td>\n",
              "      <td>0</td>\n",
              "      <td>0</td>\n",
              "      <td>0</td>\n",
              "      <td>0</td>\n",
              "      <td>1</td>\n",
              "      <td>0</td>\n",
              "      <td>1</td>\n",
              "      <td>0</td>\n",
              "      <td>1</td>\n",
              "    </tr>\n",
              "    <tr>\n",
              "      <th>1</th>\n",
              "      <td>1262</td>\n",
              "      <td>0</td>\n",
              "      <td>0</td>\n",
              "      <td>3</td>\n",
              "      <td>978.0</td>\n",
              "      <td>0.0</td>\n",
              "      <td>0.0</td>\n",
              "      <td>1.0</td>\n",
              "      <td>284.0</td>\n",
              "      <td>0</td>\n",
              "      <td>...</td>\n",
              "      <td>0</td>\n",
              "      <td>0</td>\n",
              "      <td>0</td>\n",
              "      <td>0</td>\n",
              "      <td>0</td>\n",
              "      <td>1</td>\n",
              "      <td>0</td>\n",
              "      <td>1</td>\n",
              "      <td>0</td>\n",
              "      <td>1</td>\n",
              "    </tr>\n",
              "    <tr>\n",
              "      <th>2</th>\n",
              "      <td>920</td>\n",
              "      <td>866</td>\n",
              "      <td>0</td>\n",
              "      <td>3</td>\n",
              "      <td>486.0</td>\n",
              "      <td>0.0</td>\n",
              "      <td>1.0</td>\n",
              "      <td>0.0</td>\n",
              "      <td>434.0</td>\n",
              "      <td>0</td>\n",
              "      <td>...</td>\n",
              "      <td>0</td>\n",
              "      <td>0</td>\n",
              "      <td>0</td>\n",
              "      <td>0</td>\n",
              "      <td>0</td>\n",
              "      <td>1</td>\n",
              "      <td>0</td>\n",
              "      <td>1</td>\n",
              "      <td>0</td>\n",
              "      <td>1</td>\n",
              "    </tr>\n",
              "  </tbody>\n",
              "</table>\n",
              "<p>3 rows × 306 columns</p>\n",
              "</div>\n",
              "    <div class=\"colab-df-buttons\">\n",
              "\n",
              "  <div class=\"colab-df-container\">\n",
              "    <button class=\"colab-df-convert\" onclick=\"convertToInteractive('df-bb8080ea-32d6-40f5-b6c6-d01c47b6ab35')\"\n",
              "            title=\"Convert this dataframe to an interactive table.\"\n",
              "            style=\"display:none;\">\n",
              "\n",
              "  <svg xmlns=\"http://www.w3.org/2000/svg\" height=\"24px\" viewBox=\"0 -960 960 960\">\n",
              "    <path d=\"M120-120v-720h720v720H120Zm60-500h600v-160H180v160Zm220 220h160v-160H400v160Zm0 220h160v-160H400v160ZM180-400h160v-160H180v160Zm440 0h160v-160H620v160ZM180-180h160v-160H180v160Zm440 0h160v-160H620v160Z\"/>\n",
              "  </svg>\n",
              "    </button>\n",
              "\n",
              "  <style>\n",
              "    .colab-df-container {\n",
              "      display:flex;\n",
              "      gap: 12px;\n",
              "    }\n",
              "\n",
              "    .colab-df-convert {\n",
              "      background-color: #E8F0FE;\n",
              "      border: none;\n",
              "      border-radius: 50%;\n",
              "      cursor: pointer;\n",
              "      display: none;\n",
              "      fill: #1967D2;\n",
              "      height: 32px;\n",
              "      padding: 0 0 0 0;\n",
              "      width: 32px;\n",
              "    }\n",
              "\n",
              "    .colab-df-convert:hover {\n",
              "      background-color: #E2EBFA;\n",
              "      box-shadow: 0px 1px 2px rgba(60, 64, 67, 0.3), 0px 1px 3px 1px rgba(60, 64, 67, 0.15);\n",
              "      fill: #174EA6;\n",
              "    }\n",
              "\n",
              "    .colab-df-buttons div {\n",
              "      margin-bottom: 4px;\n",
              "    }\n",
              "\n",
              "    [theme=dark] .colab-df-convert {\n",
              "      background-color: #3B4455;\n",
              "      fill: #D2E3FC;\n",
              "    }\n",
              "\n",
              "    [theme=dark] .colab-df-convert:hover {\n",
              "      background-color: #434B5C;\n",
              "      box-shadow: 0px 1px 3px 1px rgba(0, 0, 0, 0.15);\n",
              "      filter: drop-shadow(0px 1px 2px rgba(0, 0, 0, 0.3));\n",
              "      fill: #FFFFFF;\n",
              "    }\n",
              "  </style>\n",
              "\n",
              "    <script>\n",
              "      const buttonEl =\n",
              "        document.querySelector('#df-bb8080ea-32d6-40f5-b6c6-d01c47b6ab35 button.colab-df-convert');\n",
              "      buttonEl.style.display =\n",
              "        google.colab.kernel.accessAllowed ? 'block' : 'none';\n",
              "\n",
              "      async function convertToInteractive(key) {\n",
              "        const element = document.querySelector('#df-bb8080ea-32d6-40f5-b6c6-d01c47b6ab35');\n",
              "        const dataTable =\n",
              "          await google.colab.kernel.invokeFunction('convertToInteractive',\n",
              "                                                    [key], {});\n",
              "        if (!dataTable) return;\n",
              "\n",
              "        const docLinkHtml = 'Like what you see? Visit the ' +\n",
              "          '<a target=\"_blank\" href=https://colab.research.google.com/notebooks/data_table.ipynb>data table notebook</a>'\n",
              "          + ' to learn more about interactive tables.';\n",
              "        element.innerHTML = '';\n",
              "        dataTable['output_type'] = 'display_data';\n",
              "        await google.colab.output.renderOutput(dataTable, element);\n",
              "        const docLink = document.createElement('div');\n",
              "        docLink.innerHTML = docLinkHtml;\n",
              "        element.appendChild(docLink);\n",
              "      }\n",
              "    </script>\n",
              "  </div>\n",
              "\n",
              "\n",
              "<div id=\"df-4e2e299c-d55a-4398-a825-4bf9006b8a1d\">\n",
              "  <button class=\"colab-df-quickchart\" onclick=\"quickchart('df-4e2e299c-d55a-4398-a825-4bf9006b8a1d')\"\n",
              "            title=\"Suggest charts\"\n",
              "            style=\"display:none;\">\n",
              "\n",
              "<svg xmlns=\"http://www.w3.org/2000/svg\" height=\"24px\"viewBox=\"0 0 24 24\"\n",
              "     width=\"24px\">\n",
              "    <g>\n",
              "        <path d=\"M19 3H5c-1.1 0-2 .9-2 2v14c0 1.1.9 2 2 2h14c1.1 0 2-.9 2-2V5c0-1.1-.9-2-2-2zM9 17H7v-7h2v7zm4 0h-2V7h2v10zm4 0h-2v-4h2v4z\"/>\n",
              "    </g>\n",
              "</svg>\n",
              "  </button>\n",
              "\n",
              "<style>\n",
              "  .colab-df-quickchart {\n",
              "      --bg-color: #E8F0FE;\n",
              "      --fill-color: #1967D2;\n",
              "      --hover-bg-color: #E2EBFA;\n",
              "      --hover-fill-color: #174EA6;\n",
              "      --disabled-fill-color: #AAA;\n",
              "      --disabled-bg-color: #DDD;\n",
              "  }\n",
              "\n",
              "  [theme=dark] .colab-df-quickchart {\n",
              "      --bg-color: #3B4455;\n",
              "      --fill-color: #D2E3FC;\n",
              "      --hover-bg-color: #434B5C;\n",
              "      --hover-fill-color: #FFFFFF;\n",
              "      --disabled-bg-color: #3B4455;\n",
              "      --disabled-fill-color: #666;\n",
              "  }\n",
              "\n",
              "  .colab-df-quickchart {\n",
              "    background-color: var(--bg-color);\n",
              "    border: none;\n",
              "    border-radius: 50%;\n",
              "    cursor: pointer;\n",
              "    display: none;\n",
              "    fill: var(--fill-color);\n",
              "    height: 32px;\n",
              "    padding: 0;\n",
              "    width: 32px;\n",
              "  }\n",
              "\n",
              "  .colab-df-quickchart:hover {\n",
              "    background-color: var(--hover-bg-color);\n",
              "    box-shadow: 0 1px 2px rgba(60, 64, 67, 0.3), 0 1px 3px 1px rgba(60, 64, 67, 0.15);\n",
              "    fill: var(--button-hover-fill-color);\n",
              "  }\n",
              "\n",
              "  .colab-df-quickchart-complete:disabled,\n",
              "  .colab-df-quickchart-complete:disabled:hover {\n",
              "    background-color: var(--disabled-bg-color);\n",
              "    fill: var(--disabled-fill-color);\n",
              "    box-shadow: none;\n",
              "  }\n",
              "\n",
              "  .colab-df-spinner {\n",
              "    border: 2px solid var(--fill-color);\n",
              "    border-color: transparent;\n",
              "    border-bottom-color: var(--fill-color);\n",
              "    animation:\n",
              "      spin 1s steps(1) infinite;\n",
              "  }\n",
              "\n",
              "  @keyframes spin {\n",
              "    0% {\n",
              "      border-color: transparent;\n",
              "      border-bottom-color: var(--fill-color);\n",
              "      border-left-color: var(--fill-color);\n",
              "    }\n",
              "    20% {\n",
              "      border-color: transparent;\n",
              "      border-left-color: var(--fill-color);\n",
              "      border-top-color: var(--fill-color);\n",
              "    }\n",
              "    30% {\n",
              "      border-color: transparent;\n",
              "      border-left-color: var(--fill-color);\n",
              "      border-top-color: var(--fill-color);\n",
              "      border-right-color: var(--fill-color);\n",
              "    }\n",
              "    40% {\n",
              "      border-color: transparent;\n",
              "      border-right-color: var(--fill-color);\n",
              "      border-top-color: var(--fill-color);\n",
              "    }\n",
              "    60% {\n",
              "      border-color: transparent;\n",
              "      border-right-color: var(--fill-color);\n",
              "    }\n",
              "    80% {\n",
              "      border-color: transparent;\n",
              "      border-right-color: var(--fill-color);\n",
              "      border-bottom-color: var(--fill-color);\n",
              "    }\n",
              "    90% {\n",
              "      border-color: transparent;\n",
              "      border-bottom-color: var(--fill-color);\n",
              "    }\n",
              "  }\n",
              "</style>\n",
              "\n",
              "  <script>\n",
              "    async function quickchart(key) {\n",
              "      const quickchartButtonEl =\n",
              "        document.querySelector('#' + key + ' button');\n",
              "      quickchartButtonEl.disabled = true;  // To prevent multiple clicks.\n",
              "      quickchartButtonEl.classList.add('colab-df-spinner');\n",
              "      try {\n",
              "        const charts = await google.colab.kernel.invokeFunction(\n",
              "            'suggestCharts', [key], {});\n",
              "      } catch (error) {\n",
              "        console.error('Error during call to suggestCharts:', error);\n",
              "      }\n",
              "      quickchartButtonEl.classList.remove('colab-df-spinner');\n",
              "      quickchartButtonEl.classList.add('colab-df-quickchart-complete');\n",
              "    }\n",
              "    (() => {\n",
              "      let quickchartButtonEl =\n",
              "        document.querySelector('#df-4e2e299c-d55a-4398-a825-4bf9006b8a1d button');\n",
              "      quickchartButtonEl.style.display =\n",
              "        google.colab.kernel.accessAllowed ? 'block' : 'none';\n",
              "    })();\n",
              "  </script>\n",
              "</div>\n",
              "    </div>\n",
              "  </div>\n"
            ]
          },
          "metadata": {},
          "execution_count": 43
        }
      ]
    },
    {
      "cell_type": "markdown",
      "source": [
        "# **Seperate Train and Test Data**"
      ],
      "metadata": {
        "id": "AyHidwdByM8Q"
      }
    },
    {
      "cell_type": "code",
      "source": [
        "total_Data['SalePrice'] = ytrain"
      ],
      "metadata": {
        "id": "J9eZ2THZP3rV"
      },
      "execution_count": null,
      "outputs": []
    },
    {
      "cell_type": "code",
      "source": [
        "main_ytrain = total_Data['SalePrice'][~total_Data['SalePrice'].isnull()]\n",
        "main_Xtrain = total_Data[total_Data['Dataset_Train'] == 1].drop(['Dataset_Train', 'Dataset_Test', 'SalePrice'], axis=1)\n",
        "main_Xtest = total_Data[total_Data['Dataset_Test'] == 1].drop(['Dataset_Train','Dataset_Test', 'SalePrice'], axis = 1)"
      ],
      "metadata": {
        "id": "vLSU_AX2xnXN"
      },
      "execution_count": null,
      "outputs": []
    },
    {
      "cell_type": "code",
      "source": [
        "main_ytrain.head()"
      ],
      "metadata": {
        "colab": {
          "base_uri": "https://localhost:8080/"
        },
        "id": "13fjdoGbQkGD",
        "outputId": "a76eb5f7-6803-49c0-d6ae-852c97664843"
      },
      "execution_count": null,
      "outputs": [
        {
          "output_type": "execute_result",
          "data": {
            "text/plain": [
              "0    208500.0\n",
              "1    181500.0\n",
              "2    223500.0\n",
              "3    140000.0\n",
              "4    250000.0\n",
              "Name: SalePrice, dtype: float64"
            ]
          },
          "metadata": {},
          "execution_count": 46
        }
      ]
    },
    {
      "cell_type": "code",
      "source": [
        "main_ytrain.shape"
      ],
      "metadata": {
        "colab": {
          "base_uri": "https://localhost:8080/"
        },
        "id": "R9YzpZH9KbTa",
        "outputId": "3a48f905-caaf-49ae-8b8d-1dbd1b3858e1"
      },
      "execution_count": null,
      "outputs": [
        {
          "output_type": "execute_result",
          "data": {
            "text/plain": [
              "(1460,)"
            ]
          },
          "metadata": {},
          "execution_count": 47
        }
      ]
    },
    {
      "cell_type": "markdown",
      "source": [
        "# **Runnig different regression methods**"
      ],
      "metadata": {
        "id": "9Lixf3JABA1w"
      }
    },
    {
      "cell_type": "markdown",
      "source": [
        "**DecisionTreeRegressor()**"
      ],
      "metadata": {
        "id": "edA_Z_GYBTrj"
      }
    },
    {
      "cell_type": "code",
      "source": [
        "dt = DecisionTreeRegressor()\n",
        "param_grid = {\n",
        "    'max_depth': [5, 7, 10,15],\n",
        "    'min_samples_split': [10, 15, 20],\n",
        "    'min_samples_leaf': [3, 5, 10]\n",
        "}\n",
        "dt = RandomizedSearchCV(dt, param_grid,cv=5)\n",
        "dt.fit(main_Xtrain,main_ytrain)\n",
        "dt = dt.best_estimator_\n",
        "y_pred1 = dt.predict(main_Xtrain)\n",
        "\n",
        "print(\"RMSE (training) for Decision Tree:{0:10f}\".format(mean_squared_error(main_ytrain,y_pred1)))"
      ],
      "metadata": {
        "colab": {
          "base_uri": "https://localhost:8080/"
        },
        "id": "o_ukLaot_oSq",
        "outputId": "e5cffbbd-a368-45bc-80b8-6e9cd1d6a9ae"
      },
      "execution_count": null,
      "outputs": [
        {
          "output_type": "stream",
          "name": "stdout",
          "text": [
            "RMSE (training) for Decision Tree:730222682.898074\n"
          ]
        }
      ]
    },
    {
      "cell_type": "code",
      "source": [
        "#Save predictions\n",
        "df_DT=pd.DataFrame()\n",
        "df_DT['SalePrice'] = dt.predict(main_Xtest)"
      ],
      "metadata": {
        "id": "5AXNEiBbCIeG"
      },
      "execution_count": null,
      "outputs": []
    },
    {
      "cell_type": "code",
      "source": [
        "result = pd.concat([id,df_DT['SalePrice']],axis=1)\n",
        "result"
      ],
      "metadata": {
        "colab": {
          "base_uri": "https://localhost:8080/",
          "height": 424
        },
        "id": "xOTDLnhRCndT",
        "outputId": "62e00480-44e3-4d20-add2-79440d7b5549"
      },
      "execution_count": null,
      "outputs": [
        {
          "output_type": "execute_result",
          "data": {
            "text/plain": [
              "        Id      SalePrice\n",
              "0     1461  122282.008696\n",
              "1     1462  161395.000000\n",
              "2     1463  201237.647059\n",
              "3     1464  178293.218182\n",
              "4     1465  225206.500000\n",
              "...    ...            ...\n",
              "1454  2915   80226.666667\n",
              "1455  2916   80226.666667\n",
              "1456  2917  159661.666667\n",
              "1457  2918  119646.875000\n",
              "1458  2919  221718.000000\n",
              "\n",
              "[1459 rows x 2 columns]"
            ],
            "text/html": [
              "\n",
              "  <div id=\"df-319f83f0-fc1f-46bb-be39-f9c251b700b5\" class=\"colab-df-container\">\n",
              "    <div>\n",
              "<style scoped>\n",
              "    .dataframe tbody tr th:only-of-type {\n",
              "        vertical-align: middle;\n",
              "    }\n",
              "\n",
              "    .dataframe tbody tr th {\n",
              "        vertical-align: top;\n",
              "    }\n",
              "\n",
              "    .dataframe thead th {\n",
              "        text-align: right;\n",
              "    }\n",
              "</style>\n",
              "<table border=\"1\" class=\"dataframe\">\n",
              "  <thead>\n",
              "    <tr style=\"text-align: right;\">\n",
              "      <th></th>\n",
              "      <th>Id</th>\n",
              "      <th>SalePrice</th>\n",
              "    </tr>\n",
              "  </thead>\n",
              "  <tbody>\n",
              "    <tr>\n",
              "      <th>0</th>\n",
              "      <td>1461</td>\n",
              "      <td>122282.008696</td>\n",
              "    </tr>\n",
              "    <tr>\n",
              "      <th>1</th>\n",
              "      <td>1462</td>\n",
              "      <td>161395.000000</td>\n",
              "    </tr>\n",
              "    <tr>\n",
              "      <th>2</th>\n",
              "      <td>1463</td>\n",
              "      <td>201237.647059</td>\n",
              "    </tr>\n",
              "    <tr>\n",
              "      <th>3</th>\n",
              "      <td>1464</td>\n",
              "      <td>178293.218182</td>\n",
              "    </tr>\n",
              "    <tr>\n",
              "      <th>4</th>\n",
              "      <td>1465</td>\n",
              "      <td>225206.500000</td>\n",
              "    </tr>\n",
              "    <tr>\n",
              "      <th>...</th>\n",
              "      <td>...</td>\n",
              "      <td>...</td>\n",
              "    </tr>\n",
              "    <tr>\n",
              "      <th>1454</th>\n",
              "      <td>2915</td>\n",
              "      <td>80226.666667</td>\n",
              "    </tr>\n",
              "    <tr>\n",
              "      <th>1455</th>\n",
              "      <td>2916</td>\n",
              "      <td>80226.666667</td>\n",
              "    </tr>\n",
              "    <tr>\n",
              "      <th>1456</th>\n",
              "      <td>2917</td>\n",
              "      <td>159661.666667</td>\n",
              "    </tr>\n",
              "    <tr>\n",
              "      <th>1457</th>\n",
              "      <td>2918</td>\n",
              "      <td>119646.875000</td>\n",
              "    </tr>\n",
              "    <tr>\n",
              "      <th>1458</th>\n",
              "      <td>2919</td>\n",
              "      <td>221718.000000</td>\n",
              "    </tr>\n",
              "  </tbody>\n",
              "</table>\n",
              "<p>1459 rows × 2 columns</p>\n",
              "</div>\n",
              "    <div class=\"colab-df-buttons\">\n",
              "\n",
              "  <div class=\"colab-df-container\">\n",
              "    <button class=\"colab-df-convert\" onclick=\"convertToInteractive('df-319f83f0-fc1f-46bb-be39-f9c251b700b5')\"\n",
              "            title=\"Convert this dataframe to an interactive table.\"\n",
              "            style=\"display:none;\">\n",
              "\n",
              "  <svg xmlns=\"http://www.w3.org/2000/svg\" height=\"24px\" viewBox=\"0 -960 960 960\">\n",
              "    <path d=\"M120-120v-720h720v720H120Zm60-500h600v-160H180v160Zm220 220h160v-160H400v160Zm0 220h160v-160H400v160ZM180-400h160v-160H180v160Zm440 0h160v-160H620v160ZM180-180h160v-160H180v160Zm440 0h160v-160H620v160Z\"/>\n",
              "  </svg>\n",
              "    </button>\n",
              "\n",
              "  <style>\n",
              "    .colab-df-container {\n",
              "      display:flex;\n",
              "      gap: 12px;\n",
              "    }\n",
              "\n",
              "    .colab-df-convert {\n",
              "      background-color: #E8F0FE;\n",
              "      border: none;\n",
              "      border-radius: 50%;\n",
              "      cursor: pointer;\n",
              "      display: none;\n",
              "      fill: #1967D2;\n",
              "      height: 32px;\n",
              "      padding: 0 0 0 0;\n",
              "      width: 32px;\n",
              "    }\n",
              "\n",
              "    .colab-df-convert:hover {\n",
              "      background-color: #E2EBFA;\n",
              "      box-shadow: 0px 1px 2px rgba(60, 64, 67, 0.3), 0px 1px 3px 1px rgba(60, 64, 67, 0.15);\n",
              "      fill: #174EA6;\n",
              "    }\n",
              "\n",
              "    .colab-df-buttons div {\n",
              "      margin-bottom: 4px;\n",
              "    }\n",
              "\n",
              "    [theme=dark] .colab-df-convert {\n",
              "      background-color: #3B4455;\n",
              "      fill: #D2E3FC;\n",
              "    }\n",
              "\n",
              "    [theme=dark] .colab-df-convert:hover {\n",
              "      background-color: #434B5C;\n",
              "      box-shadow: 0px 1px 3px 1px rgba(0, 0, 0, 0.15);\n",
              "      filter: drop-shadow(0px 1px 2px rgba(0, 0, 0, 0.3));\n",
              "      fill: #FFFFFF;\n",
              "    }\n",
              "  </style>\n",
              "\n",
              "    <script>\n",
              "      const buttonEl =\n",
              "        document.querySelector('#df-319f83f0-fc1f-46bb-be39-f9c251b700b5 button.colab-df-convert');\n",
              "      buttonEl.style.display =\n",
              "        google.colab.kernel.accessAllowed ? 'block' : 'none';\n",
              "\n",
              "      async function convertToInteractive(key) {\n",
              "        const element = document.querySelector('#df-319f83f0-fc1f-46bb-be39-f9c251b700b5');\n",
              "        const dataTable =\n",
              "          await google.colab.kernel.invokeFunction('convertToInteractive',\n",
              "                                                    [key], {});\n",
              "        if (!dataTable) return;\n",
              "\n",
              "        const docLinkHtml = 'Like what you see? Visit the ' +\n",
              "          '<a target=\"_blank\" href=https://colab.research.google.com/notebooks/data_table.ipynb>data table notebook</a>'\n",
              "          + ' to learn more about interactive tables.';\n",
              "        element.innerHTML = '';\n",
              "        dataTable['output_type'] = 'display_data';\n",
              "        await google.colab.output.renderOutput(dataTable, element);\n",
              "        const docLink = document.createElement('div');\n",
              "        docLink.innerHTML = docLinkHtml;\n",
              "        element.appendChild(docLink);\n",
              "      }\n",
              "    </script>\n",
              "  </div>\n",
              "\n",
              "\n",
              "<div id=\"df-6575780e-9f81-4619-b0bc-4e838d7472ac\">\n",
              "  <button class=\"colab-df-quickchart\" onclick=\"quickchart('df-6575780e-9f81-4619-b0bc-4e838d7472ac')\"\n",
              "            title=\"Suggest charts\"\n",
              "            style=\"display:none;\">\n",
              "\n",
              "<svg xmlns=\"http://www.w3.org/2000/svg\" height=\"24px\"viewBox=\"0 0 24 24\"\n",
              "     width=\"24px\">\n",
              "    <g>\n",
              "        <path d=\"M19 3H5c-1.1 0-2 .9-2 2v14c0 1.1.9 2 2 2h14c1.1 0 2-.9 2-2V5c0-1.1-.9-2-2-2zM9 17H7v-7h2v7zm4 0h-2V7h2v10zm4 0h-2v-4h2v4z\"/>\n",
              "    </g>\n",
              "</svg>\n",
              "  </button>\n",
              "\n",
              "<style>\n",
              "  .colab-df-quickchart {\n",
              "      --bg-color: #E8F0FE;\n",
              "      --fill-color: #1967D2;\n",
              "      --hover-bg-color: #E2EBFA;\n",
              "      --hover-fill-color: #174EA6;\n",
              "      --disabled-fill-color: #AAA;\n",
              "      --disabled-bg-color: #DDD;\n",
              "  }\n",
              "\n",
              "  [theme=dark] .colab-df-quickchart {\n",
              "      --bg-color: #3B4455;\n",
              "      --fill-color: #D2E3FC;\n",
              "      --hover-bg-color: #434B5C;\n",
              "      --hover-fill-color: #FFFFFF;\n",
              "      --disabled-bg-color: #3B4455;\n",
              "      --disabled-fill-color: #666;\n",
              "  }\n",
              "\n",
              "  .colab-df-quickchart {\n",
              "    background-color: var(--bg-color);\n",
              "    border: none;\n",
              "    border-radius: 50%;\n",
              "    cursor: pointer;\n",
              "    display: none;\n",
              "    fill: var(--fill-color);\n",
              "    height: 32px;\n",
              "    padding: 0;\n",
              "    width: 32px;\n",
              "  }\n",
              "\n",
              "  .colab-df-quickchart:hover {\n",
              "    background-color: var(--hover-bg-color);\n",
              "    box-shadow: 0 1px 2px rgba(60, 64, 67, 0.3), 0 1px 3px 1px rgba(60, 64, 67, 0.15);\n",
              "    fill: var(--button-hover-fill-color);\n",
              "  }\n",
              "\n",
              "  .colab-df-quickchart-complete:disabled,\n",
              "  .colab-df-quickchart-complete:disabled:hover {\n",
              "    background-color: var(--disabled-bg-color);\n",
              "    fill: var(--disabled-fill-color);\n",
              "    box-shadow: none;\n",
              "  }\n",
              "\n",
              "  .colab-df-spinner {\n",
              "    border: 2px solid var(--fill-color);\n",
              "    border-color: transparent;\n",
              "    border-bottom-color: var(--fill-color);\n",
              "    animation:\n",
              "      spin 1s steps(1) infinite;\n",
              "  }\n",
              "\n",
              "  @keyframes spin {\n",
              "    0% {\n",
              "      border-color: transparent;\n",
              "      border-bottom-color: var(--fill-color);\n",
              "      border-left-color: var(--fill-color);\n",
              "    }\n",
              "    20% {\n",
              "      border-color: transparent;\n",
              "      border-left-color: var(--fill-color);\n",
              "      border-top-color: var(--fill-color);\n",
              "    }\n",
              "    30% {\n",
              "      border-color: transparent;\n",
              "      border-left-color: var(--fill-color);\n",
              "      border-top-color: var(--fill-color);\n",
              "      border-right-color: var(--fill-color);\n",
              "    }\n",
              "    40% {\n",
              "      border-color: transparent;\n",
              "      border-right-color: var(--fill-color);\n",
              "      border-top-color: var(--fill-color);\n",
              "    }\n",
              "    60% {\n",
              "      border-color: transparent;\n",
              "      border-right-color: var(--fill-color);\n",
              "    }\n",
              "    80% {\n",
              "      border-color: transparent;\n",
              "      border-right-color: var(--fill-color);\n",
              "      border-bottom-color: var(--fill-color);\n",
              "    }\n",
              "    90% {\n",
              "      border-color: transparent;\n",
              "      border-bottom-color: var(--fill-color);\n",
              "    }\n",
              "  }\n",
              "</style>\n",
              "\n",
              "  <script>\n",
              "    async function quickchart(key) {\n",
              "      const quickchartButtonEl =\n",
              "        document.querySelector('#' + key + ' button');\n",
              "      quickchartButtonEl.disabled = true;  // To prevent multiple clicks.\n",
              "      quickchartButtonEl.classList.add('colab-df-spinner');\n",
              "      try {\n",
              "        const charts = await google.colab.kernel.invokeFunction(\n",
              "            'suggestCharts', [key], {});\n",
              "      } catch (error) {\n",
              "        console.error('Error during call to suggestCharts:', error);\n",
              "      }\n",
              "      quickchartButtonEl.classList.remove('colab-df-spinner');\n",
              "      quickchartButtonEl.classList.add('colab-df-quickchart-complete');\n",
              "    }\n",
              "    (() => {\n",
              "      let quickchartButtonEl =\n",
              "        document.querySelector('#df-6575780e-9f81-4619-b0bc-4e838d7472ac button');\n",
              "      quickchartButtonEl.style.display =\n",
              "        google.colab.kernel.accessAllowed ? 'block' : 'none';\n",
              "    })();\n",
              "  </script>\n",
              "</div>\n",
              "    </div>\n",
              "  </div>\n"
            ]
          },
          "metadata": {},
          "execution_count": 51
        }
      ]
    },
    {
      "cell_type": "code",
      "source": [
        "result.to_csv('/gdrive/My Drive/Colab Notebooks/Linear_Regression/result_dt_rsearch.csv',index=None)"
      ],
      "metadata": {
        "id": "7eZFWGV1JQ7r"
      },
      "execution_count": null,
      "outputs": []
    },
    {
      "cell_type": "markdown",
      "source": [
        "**GradientBoostingRegressor()**"
      ],
      "metadata": {
        "id": "00VWp4pSiskl"
      }
    },
    {
      "cell_type": "code",
      "source": [
        "abc =GradientBoostingRegressor()\n",
        "parms = {'n_estimators': [50, 80, 100],\n",
        "    'learning_rate': [ 0.1, 0.2],\n",
        "    'max_depth': [5, 7, 10, 15]}\n",
        "grid_gb = GridSearchCV(abc,parms, cv=5, scoring='neg_mean_squared_error')\n",
        "grid_gb.fit(main_Xtrain,main_ytrain)\n",
        "model_gb = grid_gb.best_estimator_\n",
        "abc_predict_Train = model_gb.predict(main_Xtest)\n",
        "gb=pd.DataFrame()\n",
        "gb['SalePrice']=abc_predict_Train\n",
        "gb['SalePrice']"
      ],
      "metadata": {
        "colab": {
          "base_uri": "https://localhost:8080/"
        },
        "id": "f7wP7NhrQ_ii",
        "outputId": "63173896-c303-493a-861b-c19aebfe9ab7"
      },
      "execution_count": null,
      "outputs": [
        {
          "output_type": "execute_result",
          "data": {
            "text/plain": [
              "0       132137.737539\n",
              "1       166734.129389\n",
              "2       182140.935712\n",
              "3       188810.758936\n",
              "4       190402.568347\n",
              "            ...      \n",
              "1454     82961.227740\n",
              "1455     79728.015785\n",
              "1456    162698.566701\n",
              "1457    118629.476743\n",
              "1458    216546.054591\n",
              "Name: SalePrice, Length: 1459, dtype: float64"
            ]
          },
          "metadata": {},
          "execution_count": 53
        }
      ]
    },
    {
      "cell_type": "code",
      "source": [
        "result = pd.concat([id,gb['SalePrice']],axis=1)\n",
        "result.to_csv('/gdrive/My Drive/Colab Notebooks/Linear_Regression/result_gb1.csv',index=None)"
      ],
      "metadata": {
        "id": "gZKMo3XJSbe0"
      },
      "execution_count": null,
      "outputs": []
    },
    {
      "cell_type": "markdown",
      "source": [
        "**RandomForestRegressor()**"
      ],
      "metadata": {
        "id": "F1i45s8BixcL"
      }
    },
    {
      "cell_type": "code",
      "source": [
        "RFR = RandomForestRegressor()\n",
        "param_grid = {\n",
        "    'n_estimators': [30, 50, 80],\n",
        "    'max_depth': [5, 7, 10,15],\n",
        "    'min_samples_split': [10, 15, 20],\n",
        "    'min_samples_leaf': [3, 5, 10]\n",
        "}\n",
        "RFR = RandomizedSearchCV(RFR, param_grid, scoring='neg_mean_squared_error', n_iter=10, cv=5)\n",
        "RFR.fit(main_Xtrain,main_ytrain)\n",
        "best_model1 = RFR.best_estimator_\n",
        "res_rf=pd.DataFrame()\n",
        "res_rf['SalePrice'] = best_model1.predict(main_Xtest)\n",
        "res = pd.concat([id,res_rf['SalePrice']],axis=1)\n",
        "res.to_csv('/gdrive/My Drive/Colab Notebooks/Linear_Regression/result_rfr.csv',index=None)"
      ],
      "metadata": {
        "id": "4SniqNXFS1hK"
      },
      "execution_count": null,
      "outputs": []
    },
    {
      "cell_type": "markdown",
      "source": [
        "**MLPRegressor**"
      ],
      "metadata": {
        "id": "32INrlfWJoPd"
      }
    },
    {
      "cell_type": "code",
      "source": [
        "MLP = MLPRegressor()\n",
        "par = {'hidden_layer_sizes': [(50,), (100,), (50, 50)],\n",
        "    'activation': ['relu', 'tanh'],\n",
        "    'solver': ['lbfgs', 'sgd', 'adam'],\n",
        "    'alpha': [1e-4, 1e-5],\n",
        "    'learning_rate': ['constant', 'invscaling', 'adaptive']}\n",
        "MPL = RandomizedSearchCV(MLP, par, cv =5, scoring='neg_mean_squared_error')\n",
        "MPL.fit(main_Xtrain,main_ytrain)\n",
        "model_mlp = MPL.best_estimator_\n",
        "mlp_predict_Test = model_mlp.predict(main_Xtest)\n",
        "gb=pd.DataFrame()\n",
        "gb['SalePrice']=mlp_predict_Test\n",
        "gb['SalePrice']"
      ],
      "metadata": {
        "colab": {
          "base_uri": "https://localhost:8080/"
        },
        "id": "6j-Zv9dXjU8I",
        "outputId": "90d9592f-1d51-412a-94b0-0bd40bbca566"
      },
      "execution_count": null,
      "outputs": [
        {
          "output_type": "execute_result",
          "data": {
            "text/plain": [
              "0       136422.912121\n",
              "1       118988.863077\n",
              "2       187180.259458\n",
              "3       202704.338380\n",
              "4       168878.244008\n",
              "            ...      \n",
              "1454     83756.457016\n",
              "1455     89424.549502\n",
              "1456    187298.442802\n",
              "1457    104211.779397\n",
              "1458    247804.059114\n",
              "Name: SalePrice, Length: 1459, dtype: float64"
            ]
          },
          "metadata": {},
          "execution_count": 56
        }
      ]
    },
    {
      "cell_type": "code",
      "source": [
        "result_mpl = pd.concat([id,gb['SalePrice']],axis=1)\n",
        "result_mpl.to_csv('/gdrive/My Drive/Colab Notebooks/Linear_Regression/result_mlp.csv',index=None)"
      ],
      "metadata": {
        "id": "Uht2iCWeWZW7"
      },
      "execution_count": null,
      "outputs": []
    },
    {
      "cell_type": "markdown",
      "source": [
        "# **Stacking**"
      ],
      "metadata": {
        "id": "l4lG2kseIzAe"
      }
    },
    {
      "cell_type": "code",
      "source": [
        "print(\"___________________________________________________________________________________________\\nEnsemble Methods Predictions using GradientBoosting, RandomForest and Decision Tree Classifier\\n\")\n",
        "\n",
        "models = [GradientBoostingRegressor(), RandomForestRegressor(), DecisionTreeRegressor()]\n",
        "S_Train, S_Test = stacking(models,\n",
        "                           main_Xtrain,main_ytrain,main_Xtest,\n",
        "                           regression=True,\n",
        "                           mode='oof_pred_bag',\n",
        "                           needs_proba=False,\n",
        "                           save_dir=None,\n",
        "                           n_folds=4,\n",
        "                           stratified=True,\n",
        "                           shuffle=True,\n",
        "                           random_state=0,\n",
        "                           verbose=2)\n"
      ],
      "metadata": {
        "colab": {
          "base_uri": "https://localhost:8080/"
        },
        "id": "RMn5wQu1Iz5X",
        "outputId": "de19ab0a-b09f-40e8-cc0f-28c7a646fbc7"
      },
      "execution_count": null,
      "outputs": [
        {
          "output_type": "stream",
          "name": "stdout",
          "text": [
            "___________________________________________________________________________________________\n",
            "Ensemble Methods Predictions using GradientBoosting, RandomForest and Decision Tree Classifier\n",
            "\n",
            "task:         [regression]\n",
            "metric:       [mean_absolute_error]\n",
            "mode:         [oof_pred_bag]\n",
            "n_models:     [3]\n",
            "\n",
            "model  0:     [GradientBoostingRegressor]\n",
            "    fold  0:  [15815.56966021]\n",
            "    fold  1:  [16682.01943679]\n",
            "    fold  2:  [15476.62382811]\n",
            "    fold  3:  [14137.52776491]\n",
            "    ----\n",
            "    MEAN:     [15527.93517251] + [915.21987805]\n",
            "    FULL:     [15527.93517251]\n",
            "\n",
            "model  1:     [RandomForestRegressor]\n",
            "    fold  0:  [16670.18783562]\n",
            "    fold  1:  [17789.57106849]\n",
            "    fold  2:  [17766.25975342]\n",
            "    fold  3:  [15708.61561644]\n",
            "    ----\n",
            "    MEAN:     [16983.65856849] + [863.99623875]\n",
            "    FULL:     [16983.65856849]\n",
            "\n",
            "model  2:     [DecisionTreeRegressor]\n",
            "    fold  0:  [23884.91232877]\n",
            "    fold  1:  [26288.86027397]\n",
            "    fold  2:  [25817.61917808]\n",
            "    fold  3:  [24705.13150685]\n",
            "    ----\n",
            "    MEAN:     [25174.13082192] + [940.57744184]\n",
            "    FULL:     [25174.13082192]\n",
            "\n"
          ]
        }
      ]
    },
    {
      "cell_type": "code",
      "source": [
        "S_Train.shape"
      ],
      "metadata": {
        "colab": {
          "base_uri": "https://localhost:8080/"
        },
        "id": "rueatjlEYqyf",
        "outputId": "2dcedf2f-3db6-4145-8665-38452891abd9"
      },
      "execution_count": null,
      "outputs": [
        {
          "output_type": "execute_result",
          "data": {
            "text/plain": [
              "(1460, 3)"
            ]
          },
          "metadata": {},
          "execution_count": 72
        }
      ]
    },
    {
      "cell_type": "code",
      "source": [
        "#STACKING - CONTRUCT A GRADIENT BOOSTING MODEL==============================\n",
        "model = GradientBoostingRegressor()\n",
        "parameters = {'n_estimators':[50, 80, 100],\n",
        "              'max_depth' : [3, 5, 8, 10],\n",
        "              'learning_rate' : [0.1,0.2],\n",
        "              }\n",
        "model = RandomizedSearchCV(model, parameters, cv=5, scoring = 'neg_mean_squared_error')\n",
        "model = model.fit(S_Train, main_ytrain)\n",
        "model = model.best_estimator_\n",
        "model = model.fit(S_Train, main_ytrain)\n",
        "y_pred_train = model.predict(S_Train)\n",
        "y_pred_test = model.predict(S_Test)\n",
        "df=pd.DataFrame()\n",
        "df['SalePrice']=y_pred_test\n",
        "df['SalePrice']"
      ],
      "metadata": {
        "colab": {
          "base_uri": "https://localhost:8080/"
        },
        "id": "nYZgQU9ZIxDP",
        "outputId": "22c5f534-93b3-495c-d066-5235a0afc920"
      },
      "execution_count": null,
      "outputs": [
        {
          "output_type": "execute_result",
          "data": {
            "text/plain": [
              "0       119619.448816\n",
              "1       164812.787158\n",
              "2       176474.750910\n",
              "3       172920.818307\n",
              "4       182442.546440\n",
              "            ...      \n",
              "1454     79664.438201\n",
              "1455     84891.770342\n",
              "1456    158669.049772\n",
              "1457    118657.172239\n",
              "1458    223368.354153\n",
              "Name: SalePrice, Length: 1459, dtype: float64"
            ]
          },
          "metadata": {},
          "execution_count": 73
        }
      ]
    },
    {
      "cell_type": "code",
      "source": [
        "stack_res = pd.concat([id,df['SalePrice']],axis=1)\n",
        "stack_res.to_csv('/gdrive/My Drive/Colab Notebooks/Linear_Regression/stack_res.csv',index=None)"
      ],
      "metadata": {
        "id": "1-8X9vs_ZBWp"
      },
      "execution_count": null,
      "outputs": []
    }
  ]
}